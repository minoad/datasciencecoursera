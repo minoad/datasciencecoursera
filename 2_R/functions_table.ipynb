{
 "metadata": {
  "name": "",
  "signature": "sha256:c8e1ed0ae0117cc7215361cbc31c67037a95cdafe01924c181f0d012940e6f1b"
 },
 "nbformat": 3,
 "nbformat_minor": 0,
 "worksheets": [
  {
   "cells": [
    {
     "cell_type": "heading",
     "level": 1,
     "metadata": {},
     "source": [
      "Functions Table 2_R"
     ]
    },
    {
     "cell_type": "code",
     "collapsed": false,
     "input": [],
     "language": "python",
     "metadata": {},
     "outputs": []
    }
   ],
   "metadata": {}
  }
 ]
}