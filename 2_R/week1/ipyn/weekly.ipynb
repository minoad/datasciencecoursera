{
 "metadata": {
  "name": "",
  "signature": "sha256:45919d756d6c478a58fac1fc81244462a04ab3556aac780bfe86c8bc7b4ff1cd"
 },
 "nbformat": 3,
 "nbformat_minor": 0,
 "worksheets": [
  {
   "cells": [
    {
     "cell_type": "heading",
     "level": 1,
     "metadata": {},
     "source": [
      "Weeks Function Table"
     ]
    },
    {
     "cell_type": "markdown",
     "metadata": {},
     "source": [
      "|Function name|Important Arguments|Notes|\n",
      "      |---|----|----|\n",
      "      |` `|` `|` `|\n",
      "      |` `|` `|` `|\n",
      "      |` `|` `|` `|\n",
      "      |` `|` `|` `|\n",
      "      |` `|` `|` `|\n",
      "      |` `|` `|` `|\n",
      "      |` `|` `|` `|\n",
      "      |` `|` `|` `|\n",
      "      |` `|` `|` `|\n",
      "      |` `|` `|` `|\n",
      "      |` `|` `|` `|\n",
      "      |` `|` `|` `|\n"
     ]
    },
    {
     "cell_type": "code",
     "collapsed": false,
     "input": [],
     "language": "python",
     "metadata": {},
     "outputs": []
    }
   ],
   "metadata": {}
  }
 ]
}