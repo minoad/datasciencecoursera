{
 "metadata": {
  "name": "",
  "signature": "sha256:c30780261952264fa16f2e080fce2e73dd1b1f32228ee6623cd6798a469faa03"
 },
 "nbformat": 3,
 "nbformat_minor": 0,
 "worksheets": [
  {
   "cells": [
    {
     "cell_type": "heading",
     "level": 1,
     "metadata": {},
     "source": [
      "Functions Table 1_intro"
     ]
    },
    {
     "cell_type": "code",
     "collapsed": false,
     "input": [],
     "language": "python",
     "metadata": {},
     "outputs": []
    }
   ],
   "metadata": {}
  }
 ]
}