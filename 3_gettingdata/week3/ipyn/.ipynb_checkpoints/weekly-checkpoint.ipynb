{
 "metadata": {
  "name": "",
  "signature": "sha256:003a63bcd64d755a21034f4214c40249597191d6c02fadf516f2900b3cd855fd"
 },
 "nbformat": 3,
 "nbformat_minor": 0,
 "worksheets": []
}