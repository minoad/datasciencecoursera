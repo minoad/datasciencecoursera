{
 "metadata": {
  "name": "",
  "signature": "sha256:13322b890f9198285b518279d2af4c4c00f8c5806e1ef52d21176bbca537b589"
 },
 "nbformat": 3,
 "nbformat_minor": 0,
 "worksheets": [
  {
   "cells": [
    {
     "cell_type": "heading",
     "level": 1,
     "metadata": {},
     "source": [
      "Weeks Function Table"
     ]
    },
    {
     "cell_type": "markdown",
     "metadata": {},
     "source": [
      "|Function name|Important Arguments|Notes|\n",
      "      |---|----|----|\n",
      "      |` `|` `|` `|\n",
      "      |` `|` `|` `|\n",
      "      |` `|` `|` `|\n",
      "      |` `|` `|` `|\n",
      "      |` `|` `|` `|\n",
      "      |` `|` `|` `|\n",
      "      |` `|` `|` `|\n",
      "      |` `|` `|` `|\n",
      "      |` `|` `|` `|\n",
      "      |` `|` `|` `|\n",
      "      |` `|` `|` `|\n",
      "      |` `|` `|` `|\n"
     ]
    },
    {
     "cell_type": "code",
     "collapsed": false,
     "input": [
      "%load_ext rpy2.ipython"
     ],
     "language": "python",
     "metadata": {},
     "outputs": [],
     "prompt_number": 3
    },
    {
     "cell_type": "code",
     "collapsed": false,
     "input": [],
     "language": "python",
     "metadata": {},
     "outputs": []
    }
   ],
   "metadata": {}
  }
 ]
}