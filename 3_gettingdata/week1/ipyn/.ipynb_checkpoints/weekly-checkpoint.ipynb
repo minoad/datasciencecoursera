{
 "metadata": {
  "name": "",
  "signature": "sha256:76c2ac8d5b160c0f9d66851c57d0d18b794a4dc5f1f9164c70bf673fe0ec35fa"
 },
 "nbformat": 3,
 "nbformat_minor": 0,
 "worksheets": [
  {
   "cells": [
    {
     "cell_type": "heading",
     "level": 1,
     "metadata": {},
     "source": [
      "Weeks Function Table"
     ]
    },
    {
     "cell_type": "markdown",
     "metadata": {},
     "source": [
      "|Function name|Important Arguments|Notes|\n",
      "      |---|----|----|\n",
      "      |`getwd() `|` `|`get working directory.  relative or absolute `|\n",
      "      |`setwd() `|` `|` set working directory. relative or absolite`|\n",
      "      |` file.exists()`|` `|` t of f`|\n",
      "      |`dir.create() `|` `|`creates a directory `|\n",
      "      |`download.file() `|`url, destfile, method `|`get file from the internet `|\n",
      "      |`list.files() `|` `|` `|\n",
      "      |` date()`|` `|` `|\n",
      "      |` `|` `|` `|\n",
      "      |` `|` `|` `|\n",
      "      |` `|` `|` `|\n",
      "      |` `|` `|` `|\n",
      "      |` `|` `|` `|\n"
     ]
    },
    {
     "cell_type": "code",
     "collapsed": false,
     "input": [
      "%%R\n",
      "if(! file.exists('data')){\n",
      "    dir.create('data')\n",
      "}\n",
      "print(file.exists('data'))\n",
      "\n",
      "download.file('http://google.com', 'data/googl.e', method='curl')\n",
      "print(date())\n",
      "print(list.files('data'))"
     ],
     "language": "python",
     "metadata": {},
     "outputs": [
      {
       "metadata": {},
       "output_type": "display_data",
       "text": [
        "[1] TRUE\n",
        "[1] \"Tue Aug  5 23:48:08 2014\"\n",
        "[1] \"googl.e\"\n"
       ]
      }
     ],
     "prompt_number": 9
    },
    {
     "cell_type": "markdown",
     "metadata": {},
     "source": [
      "data.baltimorecity.org\n",
      "\n",
      "Raw Data -> Processing script -> Tidy Data -> Data Analysis -> Data Communication\n",
      "\n",
      "Data is qualitative or quantitative belonging to a set \n",
      "at the end, must have:  \n",
      "    * raw data\n",
      "    * codebook\n",
      "    * tidy data\n",
      "    * explicit and exact recipe to go throug steps 1,2 and 3 (recipe)\n",
      "Tidy data:  \n",
      "    * each variable in exactly one column\n",
      "    * each observation in exactly one row\n",
      "    * one table for every kind of variable\n",
      "    * if multiple tables, must have a remote id field\n",
      "Codebook  \n",
      "    * information about the variables, including units\n",
      "    * information about summary choices\n",
      "    * information about experimntal study design\n",
      "    * must be a section called:\n",
      "        * codebook\n",
      "        * study design\n",
      "        * instruction list\n",
      "            * must be able to reprocess data and get the same answer\n",
      "            * this script must not require parameters.  same out if same in\n",
      "\n",
      "* include download in processing scrip"
     ]
    },
    {
     "cell_type": "code",
     "collapsed": false,
     "input": [
      "%load_ext rpy2.ipython"
     ],
     "language": "python",
     "metadata": {},
     "outputs": [],
     "prompt_number": 1
    },
    {
     "cell_type": "code",
     "collapsed": false,
     "input": [],
     "language": "python",
     "metadata": {},
     "outputs": []
    }
   ],
   "metadata": {}
  }
 ]
}